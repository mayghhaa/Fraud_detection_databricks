{
 "cells": [
  {
   "cell_type": "code",
   "execution_count": 0,
   "metadata": {
    "application/vnd.databricks.v1+cell": {
     "cellMetadata": {
      "byteLimit": 2048000,
      "rowLimit": 10000
     },
     "inputWidgets": {},
     "nuid": "4a6531cf-dee9-490a-a05a-6338ff50c748",
     "showTitle": false,
     "tableResultSettingsMap": {},
     "title": ""
    }
   },
   "outputs": [
    {
     "output_type": "display_data",
     "data": {
      "text/html": [
       "\n",
       "<div style=\"padding:15px;border-radius:10px;background-color:#5cd65c;color:white;width:300px;\">\n",
       "    <h3>Prediction: Legitimate</h3>\n",
       "   \n",
       "</div>\n"
      ]
     },
     "metadata": {},
     "output_type": "display_data"
    }
   ],
   "source": [
    "import pandas as pd\n",
    "import pickle\n",
    "import random\n",
    "\n",
    "# ---------- Load Saved Model and Transformers ----------\n",
    "model_path = \"/Workspace/Users/m.a.arya@accenture.com/randomforest.pkl\"\n",
    "scaler_path = \"/Workspace/Users/m.a.arya@accenture.com/scaler.pkl\"\n",
    "encoder_path = \"/Workspace/Users/m.a.arya@accenture.com/label_encoders.pkl\"\n",
    "\n",
    "with open(model_path, 'rb') as f:\n",
    "    model = pickle.load(f)\n",
    "with open(scaler_path, 'rb') as f:\n",
    "    scaler = pickle.load(f)\n",
    "with open(encoder_path, 'rb') as f:\n",
    "    label_encoders = pickle.load(f)\n",
    "\n",
    "\n",
    "# ---------- Input Widgets ----------\n",
    "dbutils.widgets.text(\"amount\", \"1000\", \"Amount\")\n",
    "dbutils.widgets.dropdown(\"hour\", \"12\", [str(i) for i in range(24)], \"Hour of Day\")\n",
    "dbutils.widgets.dropdown(\"day_of_week\", \"Monday\", [\"Monday\", \"Tuesday\", \"Wednesday\", \"Thursday\", \"Friday\", \"Saturday\", \"Sunday\"], \"Day of Week\")\n",
    "dbutils.widgets.dropdown(\"upi_channel\", \"PhonePe\", [\"GPay\", \"BHIM\", \"PayTM\", \"PhonePe\"], \"UPI Channel\")\n",
    "dbutils.widgets.dropdown(\"merchant_category\", \"Utilities\",['Utilities', 'Shopping', 'Food', 'Travel', 'Education', 'Healthcare'], \"Merchant Category\")\n",
    "dbutils.widgets.dropdown(\"device_os\", \"Android\", [\"Android\", \"iOS\", \"Windows\", \"Other\"], \"Device OS\")\n",
    "dbutils.widgets.text(\"transaction_city\", \"Mumbai\", \"Transaction City\")\n",
    "dbutils.widgets.text(\"transaction_state\", \"Maharashtra\", \"Transaction State\")\n",
    "dbutils.widgets.dropdown(\"transaction_status\", \"Completed\", [\"Completed\", \"Pending\", \"Failed\"], \"Transaction Status\")\n",
    "\n",
    "# ---------- Feature Construction ----------\n",
    "input_data = {\n",
    "    \"amount\": float(dbutils.widgets.get(\"amount\")),\n",
    "    \"hour\": int(dbutils.widgets.get(\"hour\")),\n",
    "    \"day_of_week\": dbutils.widgets.get(\"day_of_week\"),\n",
    "    \"transaction_amount_deviation\": round(random.uniform(-100, 100), 2),  # Simulate deviation\n",
    "    \"is_high_value\": 1 if float(dbutils.widgets.get(\"amount\")) > 3000 else 0,\n",
    "    \"is_odd_hour\": 1 if int(dbutils.widgets.get(\"hour\")) < 6 or int(dbutils.widgets.get(\"hour\")) > 22 else 0,\n",
    "    \"upi_channel\": dbutils.widgets.get(\"upi_channel\"),\n",
    "    \"merchant_category\": dbutils.widgets.get(\"merchant_category\"),\n",
    "    \"device_os\": dbutils.widgets.get(\"device_os\"),\n",
    "    \"transaction_city\": dbutils.widgets.get(\"transaction_city\"),\n",
    "    \"transaction_state\": dbutils.widgets.get(\"transaction_state\"),\n",
    "    \"transaction_status\": dbutils.widgets.get(\"transaction_status\")\n",
    "}\n",
    "\n",
    "df_input = pd.DataFrame([input_data])\n",
    "\n",
    "# ---------- Preprocess ----------\n",
    "categorical_cols = [\n",
    "    'day_of_week',\n",
    "    'upi_channel',\n",
    "    'transaction_status',\n",
    "    'merchant_category',\n",
    "    'device_os',\n",
    "    'transaction_city',\n",
    "    'transaction_state'\n",
    "]\n",
    "\n",
    "numeric_cols = [\n",
    "    'amount',\n",
    "    'hour',\n",
    "    'transaction_amount_deviation',\n",
    "    'is_high_value',\n",
    "    'is_odd_hour'\n",
    "]\n",
    "\n",
    "# Encode\n",
    "for col in categorical_cols:\n",
    "    encoder = label_encoders[col]\n",
    "    df_input[col + \"_enc\"] = encoder.transform(df_input[col].astype(str))\n",
    "\n",
    "# Scale\n",
    "df_input[numeric_cols] = scaler.transform(df_input[numeric_cols])\n",
    "\n",
    "# Feature columns\n",
    "feature_cols = [col + \"_enc\" for col in categorical_cols] + numeric_cols\n",
    "X_input = df_input[feature_cols]\n",
    "\n",
    "# ---------- Predict ----------\n",
    "y_pred = model.predict(X_input)\n",
    "y_proba = model.predict_proba(X_input)[:, 1]\n",
    "\n",
    "# ---------- Display Result in Widget ----------\n",
    "df_input[\"fraud_prediction\"] = y_pred\n",
    "df_input[\"fraud_probability\"] = y_proba\n",
    "\n",
    "prediction = \"Fraudulent\" if y_pred[0] == 1 else \"Legitimate\"\n",
    "color = \"#ff4d4d\" if y_pred[0] == 1 else \"#5cd65c\"\n",
    "confidence = round(y_proba[0] * 100, 2)\n",
    "\n",
    "html = f\"\"\"\n",
    "<div style=\"padding:15px;border-radius:10px;background-color:{color};color:white;width:300px;\">\n",
    "    <h3>Prediction: {prediction}</h3>\n",
    "   \n",
    "</div>\n",
    "\"\"\"\n",
    "\n",
    "displayHTML(html)\n"
   ]
  },
  {
   "cell_type": "code",
   "execution_count": 0,
   "metadata": {
    "application/vnd.databricks.v1+cell": {
     "cellMetadata": {
      "byteLimit": 2048000,
      "rowLimit": 10000
     },
     "inputWidgets": {},
     "nuid": "efa330ce-ea3b-46e3-90c9-7ca0608063fc",
     "showTitle": false,
     "tableResultSettingsMap": {},
     "title": ""
    }
   },
   "outputs": [
    {
     "output_type": "stream",
     "name": "stdout",
     "output_type": "stream",
     "text": [
      "    user_id  fraud\n0       240      0\n1      1490      0\n2      1995      0\n3      1819      0\n4       558      0\n5      1693      0\n6      1549      1\n7       647      0\n8       870      0\n9       814      1\n10      222      0\n11      862      0\n12      601      1\n13     1229      0\n14     1405      1\n15     1956      0\n16     1149      0\n17      843      0\n18      202      0\n19     1178      0\n20      519      0\n21      849      1\n"
     ]
    }
   ],
   "source": [
    "import pandas as pd\n",
    "import pickle\n",
    "\n",
    "# ---------- Load Saved Model and Transformers ----------\n",
    "model_path = \"/Workspace/Users/m.a.arya@accenture.com/randomforest.pkl\"\n",
    "scaler_path = \"/Workspace/Users/m.a.arya@accenture.com/scaler.pkl\"\n",
    "encoder_path = \"/Workspace/Users/m.a.arya@accenture.com/label_encoders.pkl\"\n",
    "\n",
    "with open(model_path, 'rb') as f:\n",
    "    model = pickle.load(f)\n",
    "with open(scaler_path, 'rb') as f:\n",
    "    scaler = pickle.load(f)\n",
    "with open(encoder_path, 'rb') as f:\n",
    "    label_encoders = pickle.load(f)\n",
    "\n",
    "# ---------- Define All Your Transaction Rows --------------\n",
    "data = [\n",
    "    # device_id, amount, hour, day_of_week, transaction_amount_deviation, is_high_value, is_odd_hour,\n",
    "    # upi_channel, transaction_status, merchant_category, device_os,\n",
    "    # default_city, default_state, transaction_city, transaction_state,\n",
    "    # fraud, transaction_date, transaction_time\n",
    "    [240, 1173, 111, \"Wednesday\", -56.61, 0, 1, \"GPay\", \"Completed\", \"Healthcare\", \"Other\",\n",
    "     \"Kulti\", \"West Bengal\", \"Bally\", \"West Bengal\", 0, \"6/21/2023\", \"12:45:06 AM\"],\n",
    "    [1490, 1426, 212, \"Wednesday\", 25.21, 1, 1, \"PhonePe\", \"Completed\", \"Utilities\", \"iOS\",\n",
    "     \"Kota\", \"Rajasthan\", \"Jabalpur\", \"Madhya Pradesh\", 0, \"5/15/2024\", \"4:33:15 AM\"],\n",
    "    [1995, 1458, 617, \"Thursday\", 9.57, 1, 0, \"PayTM\", \"Completed\", \"Utilities\", \"iOS\",\n",
    "     \"Bangalore\", \"Karnataka\", \"Ludhiana\", \"Punjab\", 0, \"9/28/2023\", \"6:01:47 PM\"],\n",
    "    [1819, 1037, 389, \"Friday\", 56.34, 1, 0, \"PhonePe\", \"Completed\", \"Travel\", \"Android\",\n",
    "     \"Panihati\", \"West Bengal\", \"Gulbarga\", \"Karnataka\", 0, \"4/14/2023\", \"9:14:38 PM\"],\n",
    "    [558, 540, 607, \"Monday\", -5.05, 1, 1, \"PhonePe\", \"Pending\", \"Utilities\", \"Android\",\n",
    "     \"Bilaspur\", \"Chhattisgarh\", \"Pune\", \"Maharashtra\", 0, \"8/7/2023\", \"1:16:04 AM\"],\n",
    "    [1693, 1466, 409, \"Thursday\", -8.15, 1, 0, \"PhonePe\", \"Completed\", \"Shopping\", \"Android\",\n",
    "     \"Begusarai\", \"Bihar\", \"New Delhi\", \"Delhi\", 0, \"2/23/2023\", \"7:55:32 AM\"],\n",
    "    [1549, 428, 121, \"Tuesday\", 45.62, 1, 0, \"PhonePe\", \"Failed\", \"Healthcare\", \"iOS\",\n",
    "     \"Bangalore\", \"Karnataka\", \"Tiruchirappalli\", \"Tamil Nadu\", 1, \"12/5/2023\", \"3:42:25 PM\"],\n",
    "    [647, 1414, 774, \"Monday\", -24.18, 1, 0, \"PhonePe\", \"Completed\", \"Travel\", \"iOS\",\n",
    "     \"Puducherry\", \"Puducherry\", \"Pune\", \"Maharashtra\", 0, \"2/20/2023\", \"10:29:13 PM\"],\n",
    "    [870, 818, 891, \"Saturday\", 82.8, 1, 1, \"PhonePe\", \"Pending\", \"Food\", \"iOS\",\n",
    "     \"Jalandhar\", \"Punjab\", \"Hyderabad\", \"Telangana\", 0, \"2/25/2023\", \"5:29:48 AM\"],\n",
    "    [814, 1406, 620, \"Saturday\", 38, 1, 0, \"PhonePe\", \"Completed\", \"Shopping\", \"Android\",\n",
    "     \"Karimnagar\", \"Telangana\", \"Tiruvottiyur\", \"Tamil Nadu\", 1, \"########\", \"6:19:22 AM\"],\n",
    "    [222, 1396, 549, \"Monday\", -86.86, 1, 0, \"GPay\", \"Completed\", \"Travel\", \"iOS\",\n",
    "     \"Ludhiana\", \"Punjab\", \"Bangalore\", \"Karnataka\", 0, \"3/18/2024\", \"9:07:08 PM\"],\n",
    "    [862, 406, 256, \"Friday\", -18.76, 1, 0, \"PhonePe\", \"Completed\", \"Utilities\", \"iOS\",\n",
    "     \"Chandrapur\", \"Maharashtra\", \"Dehradun\", \"Uttarakhand\", 0, \"5/17/2024\", \"9:38:49 PM\"],\n",
    "    [601, 585, 903, \"Sunday\", 30.22, 1, 0, \"GPay\", \"Failed\", \"Shopping\", \"Android\",\n",
    "     \"Rajahmundry\", \"Andhra Pradesh\", \"North Dumdum\", \"West Bengal\", 1, \"3/10/2024\", \"12:49:01 PM\"],\n",
    "    [1229, 1500, 685, \"Tuesday\", -35, 1, 0, \"PayTM\", \"Completed\", \"Travel\", \"Android\",\n",
    "     \"Jhansi\", \"Uttar Pradesh\", \"Mathura\", \"Uttar Pradesh\", 0, \"########\", \"7:20:05 AM\"],\n",
    "    [1405, 766, 426, \"Friday\", 24.04, 1, 0, \"GPay\", \"Pending\", \"Shopping\", \"Android\",\n",
    "     \"Panipat\", \"Haryana\", \"Mangalore\", \"Karnataka\", 1, \"5/12/2023\", \"8:02:05 PM\"],\n",
    "    [1956, 862, 801, \"Monday\", 50.2, 1, 1, \"PhonePe\", \"Pending\", \"Utilities\", \"iOS\",\n",
    "     \"Bhopal\", \"Madhya Pradesh\", \"Gurgaon\", \"Haryana\", 0, \"5/27/2024\", \"3:46:27 AM\"],\n",
    "    [1149, 423, 285, \"Thursday\", 6.38, 1, 0, \"PhonePe\", \"Failed\", \"Utilities\", \"iOS\",\n",
    "     \"Jaipur\", \"Rajasthan\", \"Parbhani\", \"Maharashtra\", 0, \"5/2/2024\", \"4:57:37 PM\"],\n",
    "    [843, 523, 54, \"Monday\", 3.45, 1, 1, \"PhonePe\", \"Pending\", \"Shopping\", \"Android\",\n",
    "     \"Jalna\", \"Maharashtra\", \"Nanded\", \"Maharashtra\", 0, \"7/31/2023\", \"2:01:43 AM\"],\n",
    "    [202, 805, 237, \"Saturday\", -8.53, 1, 1, \"PhonePe\", \"Completed\", \"Utilities\", \"Android\",\n",
    "     \"Karimnagar\", \"Telangana\", \"Agra\", \"Uttar Pradesh\", 0, \"9/2/2023\", \"5:17:45 AM\"],\n",
    "    [1178, 906, 493, \"Wednesday\", 2.57, 1, 0, \"PhonePe\", \"Pending\", \"Healthcare\", \"Android\",\n",
    "     \"Coimbatore\", \"Tamil Nadu\", \"Aurangabad\", \"Maharashtra\", 0, \"5/31/2023\", \"11:33:12 AM\"],\n",
    "    [519, 163, 483, \"Monday\", 40.61, 1, 0, \"PhonePe\", \"Completed\", \"Shopping\", \"Android\",\n",
    "     \"Karnal\", \"Haryana\", \"Alwar\", \"Rajasthan\", 0, \"8/28/2023\", \"10:51:31 AM\"],\n",
    "    [849, 1104, 753, \"Sunday\", 75.49, 1, 1, \"PhonePe\", \"Pending\", \"Shopping\", \"Android\",\n",
    "     \"Kolhapur\", \"Maharashtra\", \"Asansol\", \"West Bengal\", 1, \"3/5/2023\", \"12:41:05 AM\"]\n",
    "]\n",
    "\n",
    "columns = [\n",
    "    \"user_id\", \"amount\", \"hour\", \"day_of_week\", \"transaction_amount_deviation\", \"is_high_value\", \"is_odd_hour\",\n",
    "    \"upi_channel\", \"transaction_status\", \"merchant_category\", \"device_os\",\n",
    "    \"default_city\", \"default_state\", \"transaction_city\", \"transaction_state\",\n",
    "    \"fraud\", \"transaction_date\", \"transaction_time\"\n",
    "]\n",
    "\n",
    "df = pd.DataFrame(data, columns=columns)\n",
    "\n",
    "# ---------- Preprocess ----------\n",
    "categorical_cols = [\n",
    "    'day_of_week',\n",
    "    'upi_channel',\n",
    "    'transaction_status',\n",
    "    'merchant_category',\n",
    "    'device_os',\n",
    "    'transaction_city',\n",
    "    'transaction_state'\n",
    "]\n",
    "\n",
    "numeric_cols = [\n",
    "    'amount',\n",
    "    'hour',\n",
    "    'transaction_amount_deviation',\n",
    "    'is_high_value',\n",
    "    'is_odd_hour'\n",
    "]\n",
    "\n",
    "# Label Encode categorical columns\n",
    "for col in categorical_cols:\n",
    "    encoder = label_encoders[col]\n",
    "    df[col + \"_enc\"] = encoder.transform(df[col].astype(str))\n",
    "\n",
    "# Scale numeric columns\n",
    "df[numeric_cols] = scaler.transform(df[numeric_cols])\n",
    "\n",
    "# Feature columns for model input\n",
    "feature_cols = [col + \"_enc\" for col in categorical_cols] + numeric_cols\n",
    "X_input = df[feature_cols]\n",
    "\n",
    "# ---------- Predict ----------\n",
    "y_pred = model.predict(X_input)\n",
    "y_proba = model.predict_proba(X_input)[:, 1]\n",
    "\n",
    "\n",
    "\n",
    "\n",
    "# ---------- Add to DataFrame ----------\n",
    "df[\"fraud_prediction\"] = y_pred\n",
    "df[\"fraud_probability\"] = y_proba\n",
    "\n",
    "# ---------- Display Results ----------\n",
    "print(df[[\n",
    "    \"user_id\",\n",
    "    \"fraud\"\n",
    "]])\n"
   ]
  },
  {
   "cell_type": "code",
   "execution_count": 0,
   "metadata": {
    "application/vnd.databricks.v1+cell": {
     "cellMetadata": {
      "byteLimit": 2048000,
      "rowLimit": 10000
     },
     "inputWidgets": {},
     "nuid": "85b85a01-4336-4d2c-8421-2557a032b70f",
     "showTitle": false,
     "tableResultSettingsMap": {},
     "title": ""
    }
   },
   "outputs": [
    {
     "output_type": "stream",
     "name": "stdout",
     "output_type": "stream",
     "text": [
      "Threshold  Precision  Recall      F1\n----------------------------------------\n    0.30       0.23    1.00      0.37\n    0.35       0.23    1.00      0.37\n    0.40       0.23    1.00      0.37\n    0.45       0.23    1.00      0.37\n    0.50       0.28    1.00      0.43\n    0.55       0.36    1.00      0.53\n    0.60       0.38    0.60      0.46\n    0.65       0.00    0.00      0.00\n    0.70       0.00    0.00      0.00\n\nBest threshold by F1-score: 0.55 (F1 = 0.53)\n"
     ]
    }
   ],
   "source": [
    "import numpy as np\n",
    "from sklearn.metrics import precision_score, recall_score, f1_score\n",
    "\n",
    "#-----------------------------------\n",
    "# Assumptions\n",
    "# Your DataFrame df must include:\n",
    "# - df[\"fraud_probability\"]: predicted probability of fraud from your model\n",
    "# - df[\"fraud\"]: true label, 1 = fraud, 0 = not fraud\n",
    "#-----------------------------------\n",
    "\n",
    "# Arrays for convenience\n",
    "fraud_probs = df[\"fraud_probability\"].values\n",
    "true_labels = df[\"fraud\"].values\n",
    "\n",
    "best_thresh = 0.5\n",
    "best_f1 = 0.0\n",
    "\n",
    "print(\"Threshold  Precision  Recall      F1\")\n",
    "print(\"----------------------------------------\")\n",
    "\n",
    "for thresh in np.arange(0.3, 0.71, 0.05):\n",
    "    preds = (fraud_probs >= thresh).astype(int)\n",
    "    prec = precision_score(true_labels, preds)\n",
    "    rec = recall_score(true_labels, preds)\n",
    "    curr_f1 = f1_score(true_labels, preds)\n",
    "    print(f\"{thresh:8.2f}  {prec:9.2f}  {rec:6.2f}  {curr_f1:8.2f}\")\n",
    "    if curr_f1 > best_f1:\n",
    "        best_f1 = curr_f1\n",
    "        best_thresh = thresh\n",
    "\n",
    "print(f\"\\nBest threshold by F1-score: {best_thresh:.2f} (F1 = {best_f1:.2f})\")\n",
    "\n",
    "# Optional: Apply best threshold and store as new prediction column\n",
    "df[\"fraud_prediction_optimal\"] = (fraud_probs >= best_thresh).astype(int)\n"
   ]
  },
  {
   "cell_type": "code",
   "execution_count": 0,
   "metadata": {
    "application/vnd.databricks.v1+cell": {
     "cellMetadata": {},
     "inputWidgets": {},
     "nuid": "067093a7-6ea9-4342-84d0-6086fecef322",
     "showTitle": false,
     "tableResultSettingsMap": {},
     "title": ""
    }
   },
   "outputs": [],
   "source": []
  }
 ],
 "metadata": {
  "application/vnd.databricks.v1+notebook": {
   "computePreferences": null,
   "dashboards": [],
   "environmentMetadata": {
    "base_environment": "",
    "environment_version": "2"
   },
   "inputWidgetPreferences": null,
   "language": "python",
   "notebookMetadata": {
    "pythonIndentUnit": 4
   },
   "notebookName": "Fraud Model Testing",
   "widgets": {
    "amount": {
     "currentValue": "14400.12",
     "nuid": "1458662d-a564-4ba1-a773-a3b082edff99",
     "typedWidgetInfo": {
      "autoCreated": false,
      "defaultValue": "1000",
      "label": "Amount",
      "name": "amount",
      "options": {
       "widgetDisplayType": "Text",
       "validationRegex": null
      },
      "parameterDataType": "String"
     },
     "widgetInfo": {
      "widgetType": "text",
      "defaultValue": "1000",
      "label": "Amount",
      "name": "amount",
      "options": {
       "widgetType": "text",
       "autoCreated": null,
       "validationRegex": null
      }
     }
    },
    "day_of_week": {
     "currentValue": "Sunday",
     "nuid": "b962df61-847d-4ab8-afc0-dfb6a4beab2d",
     "typedWidgetInfo": {
      "autoCreated": false,
      "defaultValue": "Monday",
      "label": "Day of Week",
      "name": "day_of_week",
      "options": {
       "widgetDisplayType": "Dropdown",
       "choices": [
        "Monday",
        "Tuesday",
        "Wednesday",
        "Thursday",
        "Friday",
        "Saturday",
        "Sunday"
       ],
       "fixedDomain": true,
       "multiselect": false
      },
      "parameterDataType": "String"
     },
     "widgetInfo": {
      "widgetType": "dropdown",
      "defaultValue": "Monday",
      "label": "Day of Week",
      "name": "day_of_week",
      "options": {
       "widgetType": "dropdown",
       "autoCreated": null,
       "choices": [
        "Monday",
        "Tuesday",
        "Wednesday",
        "Thursday",
        "Friday",
        "Saturday",
        "Sunday"
       ]
      }
     }
    },
    "device_os": {
     "currentValue": "iOS",
     "nuid": "b4f585a2-7daf-4276-927f-3723d8e14466",
     "typedWidgetInfo": {
      "autoCreated": false,
      "defaultValue": "Android",
      "label": "Device OS",
      "name": "device_os",
      "options": {
       "widgetDisplayType": "Dropdown",
       "choices": [
        "Android",
        "iOS",
        "Windows",
        "Other"
       ],
       "fixedDomain": true,
       "multiselect": false
      },
      "parameterDataType": "String"
     },
     "widgetInfo": {
      "widgetType": "dropdown",
      "defaultValue": "Android",
      "label": "Device OS",
      "name": "device_os",
      "options": {
       "widgetType": "dropdown",
       "autoCreated": null,
       "choices": [
        "Android",
        "iOS",
        "Windows",
        "Other"
       ]
      }
     }
    },
    "hour": {
     "currentValue": "10",
     "nuid": "45bb67eb-330e-4c04-a40f-cda144f6da0a",
     "typedWidgetInfo": {
      "autoCreated": false,
      "defaultValue": "12",
      "label": "Hour of Day",
      "name": "hour",
      "options": {
       "widgetDisplayType": "Dropdown",
       "choices": [
        "0",
        "1",
        "2",
        "3",
        "4",
        "5",
        "6",
        "7",
        "8",
        "9",
        "10",
        "11",
        "12",
        "13",
        "14",
        "15",
        "16",
        "17",
        "18",
        "19",
        "20",
        "21",
        "22",
        "23"
       ],
       "fixedDomain": true,
       "multiselect": false
      },
      "parameterDataType": "String"
     },
     "widgetInfo": {
      "widgetType": "dropdown",
      "defaultValue": "12",
      "label": "Hour of Day",
      "name": "hour",
      "options": {
       "widgetType": "dropdown",
       "autoCreated": null,
       "choices": [
        "0",
        "1",
        "2",
        "3",
        "4",
        "5",
        "6",
        "7",
        "8",
        "9",
        "10",
        "11",
        "12",
        "13",
        "14",
        "15",
        "16",
        "17",
        "18",
        "19",
        "20",
        "21",
        "22",
        "23"
       ]
      }
     }
    },
    "merchant_category": {
     "currentValue": "Shopping",
     "nuid": "9cd46330-52b3-48ae-aa6b-c6093c95e6aa",
     "typedWidgetInfo": {
      "autoCreated": false,
      "defaultValue": "Utilities",
      "label": "Merchant Category",
      "name": "merchant_category",
      "options": {
       "widgetDisplayType": "Dropdown",
       "choices": [
        "Utilities",
        "Shopping",
        "Food",
        "Travel",
        "Education",
        "Healthcare"
       ],
       "fixedDomain": true,
       "multiselect": false
      },
      "parameterDataType": "String"
     },
     "widgetInfo": {
      "widgetType": "dropdown",
      "defaultValue": "Utilities",
      "label": "Merchant Category",
      "name": "merchant_category",
      "options": {
       "widgetType": "dropdown",
       "autoCreated": null,
       "choices": [
        "Utilities",
        "Shopping",
        "Food",
        "Travel",
        "Education",
        "Healthcare"
       ]
      }
     }
    },
    "transaction_city": {
     "currentValue": "Satna",
     "nuid": "2d226d37-5934-43a5-bd27-a9f7c4472e87",
     "typedWidgetInfo": {
      "autoCreated": false,
      "defaultValue": "Mumbai",
      "label": "Transaction City",
      "name": "transaction_city",
      "options": {
       "widgetDisplayType": "Text",
       "validationRegex": null
      },
      "parameterDataType": "String"
     },
     "widgetInfo": {
      "widgetType": "text",
      "defaultValue": "Mumbai",
      "label": "Transaction City",
      "name": "transaction_city",
      "options": {
       "widgetType": "text",
       "autoCreated": null,
       "validationRegex": null
      }
     }
    },
    "transaction_state": {
     "currentValue": "Madhya Pradesh",
     "nuid": "221c3f02-b90c-4586-a4c9-5ad391226a3c",
     "typedWidgetInfo": {
      "autoCreated": false,
      "defaultValue": "Maharashtra",
      "label": "Transaction State",
      "name": "transaction_state",
      "options": {
       "widgetDisplayType": "Text",
       "validationRegex": null
      },
      "parameterDataType": "String"
     },
     "widgetInfo": {
      "widgetType": "text",
      "defaultValue": "Maharashtra",
      "label": "Transaction State",
      "name": "transaction_state",
      "options": {
       "widgetType": "text",
       "autoCreated": null,
       "validationRegex": null
      }
     }
    },
    "transaction_status": {
     "currentValue": "Completed",
     "nuid": "39137042-6f15-4cee-8e98-2e20f9ac343a",
     "typedWidgetInfo": {
      "autoCreated": false,
      "defaultValue": "Completed",
      "label": "Transaction Status",
      "name": "transaction_status",
      "options": {
       "widgetDisplayType": "Dropdown",
       "choices": [
        "Completed",
        "Pending",
        "Failed"
       ],
       "fixedDomain": true,
       "multiselect": false
      },
      "parameterDataType": "String"
     },
     "widgetInfo": {
      "widgetType": "dropdown",
      "defaultValue": "Completed",
      "label": "Transaction Status",
      "name": "transaction_status",
      "options": {
       "widgetType": "dropdown",
       "autoCreated": null,
       "choices": [
        "Completed",
        "Pending",
        "Failed"
       ]
      }
     }
    },
    "upi_channel": {
     "currentValue": "GPay",
     "nuid": "c6c55025-a97f-44b2-b5a5-6513de9f6d34",
     "typedWidgetInfo": {
      "autoCreated": false,
      "defaultValue": "PhonePe",
      "label": "UPI Channel",
      "name": "upi_channel",
      "options": {
       "widgetDisplayType": "Dropdown",
       "choices": [
        "GPay",
        "BHIM",
        "PayTM",
        "PhonePe"
       ],
       "fixedDomain": true,
       "multiselect": false
      },
      "parameterDataType": "String"
     },
     "widgetInfo": {
      "widgetType": "dropdown",
      "defaultValue": "PhonePe",
      "label": "UPI Channel",
      "name": "upi_channel",
      "options": {
       "widgetType": "dropdown",
       "autoCreated": null,
       "choices": [
        "GPay",
        "BHIM",
        "PayTM",
        "PhonePe"
       ]
      }
     }
    }
   }
  },
  "language_info": {
   "name": "python"
  }
 },
 "nbformat": 4,
 "nbformat_minor": 0
}