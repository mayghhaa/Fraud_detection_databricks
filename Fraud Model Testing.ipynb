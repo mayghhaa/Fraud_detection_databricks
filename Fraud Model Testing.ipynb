{
 "cells": [
  {
   "cell_type": "code",
   "execution_count": 0,
   "metadata": {
    "application/vnd.databricks.v1+cell": {
     "cellMetadata": {
      "byteLimit": 2048000,
      "rowLimit": 10000
     },
     "inputWidgets": {},
     "nuid": "4a6531cf-dee9-490a-a05a-6338ff50c748",
     "showTitle": false,
     "tableResultSettingsMap": {},
     "title": ""
    }
   },
   "outputs": [
    {
     "output_type": "display_data",
     "data": {
      "text/html": [
       "\n",
       "<div style=\"padding:15px;border-radius:10px;background-color:#ff4d4d;color:white;width:300px;\">\n",
       "    <h3>Prediction: Fraudulent</h3>\n",
       "    <p>Confidence: 51.0%</p>\n",
       "</div>\n"
      ]
     },
     "metadata": {},
     "output_type": "display_data"
    }
   ],
   "source": [
    "import pandas as pd\n",
    "import pickle\n",
    "import random\n",
    "\n",
    "# ---------- Load Saved Model and Transformers ----------\n",
    "model_path = \"/Workspace/Users/m.a.arya@accenture.com/randomforest.pkl\"\n",
    "scaler_path = \"/Workspace/Users/m.a.arya@accenture.com/scaler.pkl\"\n",
    "encoder_path = \"/Workspace/Users/m.a.arya@accenture.com/label_encoders.pkl\"\n",
    "\n",
    "with open(model_path, 'rb') as f:\n",
    "    model = pickle.load(f)\n",
    "with open(scaler_path, 'rb') as f:\n",
    "    scaler = pickle.load(f)\n",
    "with open(encoder_path, 'rb') as f:\n",
    "    label_encoders = pickle.load(f)\n",
    "\n",
    "\n",
    "# ---------- Input Widgets ----------\n",
    "dbutils.widgets.text(\"amount\", \"1000\", \"Amount\")\n",
    "dbutils.widgets.dropdown(\"hour\", \"12\", [str(i) for i in range(24)], \"Hour of Day\")\n",
    "dbutils.widgets.dropdown(\"day_of_week\", \"Monday\", [\"Monday\", \"Tuesday\", \"Wednesday\", \"Thursday\", \"Friday\", \"Saturday\", \"Sunday\"], \"Day of Week\")\n",
    "dbutils.widgets.dropdown(\"upi_channel\", \"PhonePe\", [\"GPay\", \"BHIM\", \"PayTM\", \"PhonePe\"], \"UPI Channel\")\n",
    "dbutils.widgets.dropdown(\"merchant_category\", \"Utilities\",['Utilities', 'Shopping', 'Food', 'Travel', 'Education', 'Healthcare'], \"Merchant Category\")\n",
    "dbutils.widgets.dropdown(\"device_os\", \"Android\", [\"Android\", \"iOS\", \"Windows\", \"Other\"], \"Device OS\")\n",
    "dbutils.widgets.text(\"transaction_city\", \"Mumbai\", \"Transaction City\")\n",
    "dbutils.widgets.text(\"transaction_state\", \"Maharashtra\", \"Transaction State\")\n",
    "dbutils.widgets.dropdown(\"transaction_status\", \"Completed\", [\"Completed\", \"Pending\", \"Failed\"], \"Transaction Status\")\n",
    "\n",
    "# ---------- Feature Construction ----------\n",
    "input_data = {\n",
    "    \"amount\": float(dbutils.widgets.get(\"amount\")),\n",
    "    \"hour\": int(dbutils.widgets.get(\"hour\")),\n",
    "    \"day_of_week\": dbutils.widgets.get(\"day_of_week\"),\n",
    "    \"transaction_amount_deviation\": round(random.uniform(-100, 100), 2),  # Simulate deviation\n",
    "    \"is_high_value\": 1 if float(dbutils.widgets.get(\"amount\")) > 3000 else 0,\n",
    "    \"is_odd_hour\": 1 if int(dbutils.widgets.get(\"hour\")) < 6 or int(dbutils.widgets.get(\"hour\")) > 22 else 0,\n",
    "    \"upi_channel\": dbutils.widgets.get(\"upi_channel\"),\n",
    "    \"merchant_category\": dbutils.widgets.get(\"merchant_category\"),\n",
    "    \"device_os\": dbutils.widgets.get(\"device_os\"),\n",
    "    \"transaction_city\": dbutils.widgets.get(\"transaction_city\"),\n",
    "    \"transaction_state\": dbutils.widgets.get(\"transaction_state\"),\n",
    "    \"transaction_status\": dbutils.widgets.get(\"transaction_status\")\n",
    "}\n",
    "\n",
    "df_input = pd.DataFrame([input_data])\n",
    "\n",
    "# ---------- Preprocess ----------\n",
    "categorical_cols = [\n",
    "    'day_of_week',\n",
    "    'upi_channel',\n",
    "    'transaction_status',\n",
    "    'merchant_category',\n",
    "    'device_os',\n",
    "    'transaction_city',\n",
    "    'transaction_state'\n",
    "]\n",
    "\n",
    "numeric_cols = [\n",
    "    'amount',\n",
    "    'hour',\n",
    "    'transaction_amount_deviation',\n",
    "    'is_high_value',\n",
    "    'is_odd_hour'\n",
    "]\n",
    "\n",
    "# Encode\n",
    "for col in categorical_cols:\n",
    "    encoder = label_encoders[col]\n",
    "    df_input[col + \"_enc\"] = encoder.transform(df_input[col].astype(str))\n",
    "\n",
    "# Scale\n",
    "df_input[numeric_cols] = scaler.transform(df_input[numeric_cols])\n",
    "\n",
    "# Feature columns\n",
    "feature_cols = [col + \"_enc\" for col in categorical_cols] + numeric_cols\n",
    "X_input = df_input[feature_cols]\n",
    "\n",
    "# ---------- Predict ----------\n",
    "y_pred = model.predict(X_input)\n",
    "y_proba = model.predict_proba(X_input)[:, 1]\n",
    "\n",
    "# ---------- Display Result in Widget ----------\n",
    "df_input[\"fraud_prediction\"] = y_pred\n",
    "df_input[\"fraud_probability\"] = y_proba\n",
    "\n",
    "prediction = \"Fraudulent\" if y_pred[0] == 1 else \"Legitimate\"\n",
    "color = \"#ff4d4d\" if y_pred[0] == 1 else \"#5cd65c\"\n",
    "confidence = round(y_proba[0] * 100, 2)\n",
    "\n",
    "html = f\"\"\"\n",
    "<div style=\"padding:15px;border-radius:10px;background-color:{color};color:white;width:300px;\">\n",
    "    <h3>Prediction: {prediction}</h3>\n",
    "    <p>Confidence: {confidence}%</p>\n",
    "</div>\n",
    "\"\"\"\n",
    "\n",
    "displayHTML(html)\n"
   ]
  }
 ],
 "metadata": {
  "application/vnd.databricks.v1+notebook": {
   "computePreferences": null,
   "dashboards": [],
   "environmentMetadata": {
    "base_environment": "",
    "environment_version": "2"
   },
   "inputWidgetPreferences": null,
   "language": "python",
   "notebookMetadata": {
    "pythonIndentUnit": 4
   },
   "notebookName": "Fraud Model Testing",
   "widgets": {
    "amount": {
     "currentValue": "6371.03",
     "nuid": "1458662d-a564-4ba1-a773-a3b082edff99",
     "typedWidgetInfo": {
      "autoCreated": false,
      "defaultValue": "1000",
      "label": "Amount",
      "name": "amount",
      "options": {
       "widgetDisplayType": "Text",
       "validationRegex": null
      },
      "parameterDataType": "String"
     },
     "widgetInfo": {
      "widgetType": "text",
      "defaultValue": "1000",
      "label": "Amount",
      "name": "amount",
      "options": {
       "widgetType": "text",
       "autoCreated": null,
       "validationRegex": null
      }
     }
    },
    "day_of_week": {
     "currentValue": "Sunday",
     "nuid": "b962df61-847d-4ab8-afc0-dfb6a4beab2d",
     "typedWidgetInfo": {
      "autoCreated": false,
      "defaultValue": "Monday",
      "label": "Day of Week",
      "name": "day_of_week",
      "options": {
       "widgetDisplayType": "Dropdown",
       "choices": [
        "Monday",
        "Tuesday",
        "Wednesday",
        "Thursday",
        "Friday",
        "Saturday",
        "Sunday"
       ],
       "fixedDomain": true,
       "multiselect": false
      },
      "parameterDataType": "String"
     },
     "widgetInfo": {
      "widgetType": "dropdown",
      "defaultValue": "Monday",
      "label": "Day of Week",
      "name": "day_of_week",
      "options": {
       "widgetType": "dropdown",
       "autoCreated": null,
       "choices": [
        "Monday",
        "Tuesday",
        "Wednesday",
        "Thursday",
        "Friday",
        "Saturday",
        "Sunday"
       ]
      }
     }
    },
    "device_os": {
     "currentValue": "Android",
     "nuid": "b4f585a2-7daf-4276-927f-3723d8e14466",
     "typedWidgetInfo": {
      "autoCreated": false,
      "defaultValue": "Android",
      "label": "Device OS",
      "name": "device_os",
      "options": {
       "widgetDisplayType": "Dropdown",
       "choices": [
        "Android",
        "iOS",
        "Windows",
        "Other"
       ],
       "fixedDomain": true,
       "multiselect": false
      },
      "parameterDataType": "String"
     },
     "widgetInfo": {
      "widgetType": "dropdown",
      "defaultValue": "Android",
      "label": "Device OS",
      "name": "device_os",
      "options": {
       "widgetType": "dropdown",
       "autoCreated": null,
       "choices": [
        "Android",
        "iOS",
        "Windows",
        "Other"
       ]
      }
     }
    },
    "hour": {
     "currentValue": "8",
     "nuid": "45bb67eb-330e-4c04-a40f-cda144f6da0a",
     "typedWidgetInfo": {
      "autoCreated": false,
      "defaultValue": "12",
      "label": "Hour of Day",
      "name": "hour",
      "options": {
       "widgetDisplayType": "Dropdown",
       "choices": [
        "0",
        "1",
        "2",
        "3",
        "4",
        "5",
        "6",
        "7",
        "8",
        "9",
        "10",
        "11",
        "12",
        "13",
        "14",
        "15",
        "16",
        "17",
        "18",
        "19",
        "20",
        "21",
        "22",
        "23"
       ],
       "fixedDomain": true,
       "multiselect": false
      },
      "parameterDataType": "String"
     },
     "widgetInfo": {
      "widgetType": "dropdown",
      "defaultValue": "12",
      "label": "Hour of Day",
      "name": "hour",
      "options": {
       "widgetType": "dropdown",
       "autoCreated": null,
       "choices": [
        "0",
        "1",
        "2",
        "3",
        "4",
        "5",
        "6",
        "7",
        "8",
        "9",
        "10",
        "11",
        "12",
        "13",
        "14",
        "15",
        "16",
        "17",
        "18",
        "19",
        "20",
        "21",
        "22",
        "23"
       ]
      }
     }
    },
    "merchant_category": {
     "currentValue": "Travel",
     "nuid": "9cd46330-52b3-48ae-aa6b-c6093c95e6aa",
     "typedWidgetInfo": {
      "autoCreated": false,
      "defaultValue": "Utilities",
      "label": "Merchant Category",
      "name": "merchant_category",
      "options": {
       "widgetDisplayType": "Dropdown",
       "choices": [
        "Utilities",
        "Shopping",
        "Food",
        "Travel",
        "Education",
        "Healthcare"
       ],
       "fixedDomain": true,
       "multiselect": false
      },
      "parameterDataType": "String"
     },
     "widgetInfo": {
      "widgetType": "dropdown",
      "defaultValue": "Utilities",
      "label": "Merchant Category",
      "name": "merchant_category",
      "options": {
       "widgetType": "dropdown",
       "autoCreated": null,
       "choices": [
        "Utilities",
        "Shopping",
        "Food",
        "Travel",
        "Education",
        "Healthcare"
       ]
      }
     }
    },
    "transaction_city": {
     "currentValue": "Lucknow",
     "nuid": "2d226d37-5934-43a5-bd27-a9f7c4472e87",
     "typedWidgetInfo": {
      "autoCreated": false,
      "defaultValue": "Mumbai",
      "label": "Transaction City",
      "name": "transaction_city",
      "options": {
       "widgetDisplayType": "Text",
       "validationRegex": null
      },
      "parameterDataType": "String"
     },
     "widgetInfo": {
      "widgetType": "text",
      "defaultValue": "Mumbai",
      "label": "Transaction City",
      "name": "transaction_city",
      "options": {
       "widgetType": "text",
       "autoCreated": null,
       "validationRegex": null
      }
     }
    },
    "transaction_state": {
     "currentValue": "Uttar Pradesh",
     "nuid": "221c3f02-b90c-4586-a4c9-5ad391226a3c",
     "typedWidgetInfo": {
      "autoCreated": false,
      "defaultValue": "Maharashtra",
      "label": "Transaction State",
      "name": "transaction_state",
      "options": {
       "widgetDisplayType": "Text",
       "validationRegex": null
      },
      "parameterDataType": "String"
     },
     "widgetInfo": {
      "widgetType": "text",
      "defaultValue": "Maharashtra",
      "label": "Transaction State",
      "name": "transaction_state",
      "options": {
       "widgetType": "text",
       "autoCreated": null,
       "validationRegex": null
      }
     }
    },
    "transaction_status": {
     "currentValue": "Failed",
     "nuid": "39137042-6f15-4cee-8e98-2e20f9ac343a",
     "typedWidgetInfo": {
      "autoCreated": false,
      "defaultValue": "Completed",
      "label": "Transaction Status",
      "name": "transaction_status",
      "options": {
       "widgetDisplayType": "Dropdown",
       "choices": [
        "Completed",
        "Pending",
        "Failed"
       ],
       "fixedDomain": true,
       "multiselect": false
      },
      "parameterDataType": "String"
     },
     "widgetInfo": {
      "widgetType": "dropdown",
      "defaultValue": "Completed",
      "label": "Transaction Status",
      "name": "transaction_status",
      "options": {
       "widgetType": "dropdown",
       "autoCreated": null,
       "choices": [
        "Completed",
        "Pending",
        "Failed"
       ]
      }
     }
    },
    "upi_channel": {
     "currentValue": "PhonePe",
     "nuid": "c6c55025-a97f-44b2-b5a5-6513de9f6d34",
     "typedWidgetInfo": {
      "autoCreated": false,
      "defaultValue": "PhonePe",
      "label": "UPI Channel",
      "name": "upi_channel",
      "options": {
       "widgetDisplayType": "Dropdown",
       "choices": [
        "GPay",
        "BHIM",
        "PayTM",
        "PhonePe"
       ],
       "fixedDomain": true,
       "multiselect": false
      },
      "parameterDataType": "String"
     },
     "widgetInfo": {
      "widgetType": "dropdown",
      "defaultValue": "PhonePe",
      "label": "UPI Channel",
      "name": "upi_channel",
      "options": {
       "widgetType": "dropdown",
       "autoCreated": null,
       "choices": [
        "GPay",
        "BHIM",
        "PayTM",
        "PhonePe"
       ]
      }
     }
    }
   }
  },
  "language_info": {
   "name": "python"
  }
 },
 "nbformat": 4,
 "nbformat_minor": 0
}